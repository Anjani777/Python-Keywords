{
 "cells": [
  {
   "cell_type": "code",
   "execution_count": 1,
   "id": "5edf0feb-3dfd-4094-b19a-ac712dc0e062",
   "metadata": {},
   "outputs": [],
   "source": [
    "#Q-Explain the significance of Python keywords and provide examples of five keywords\n",
    "#Ans-A keyword is a reserved word that has a specific meaning and functionality within the python.\n",
    "#example of 5 keyword are \n",
    "#1)print 2)break 3) continue 4) if-else 5) append\n"
   ]
  },
  {
   "cell_type": "code",
   "execution_count": 2,
   "id": "7354a35a-920e-4471-8cc6-64d4e1bfdf90",
   "metadata": {},
   "outputs": [],
   "source": [
    "#Q-Describe the rules for defining identifiers in Python and provide an example\n",
    "#Ans-1)Valid Characters 2)Cannot Start with a Digit 3) Case-Sensitive 4) Cannot be a Keyword 5) Cannot Contain Spaces\n",
    "## Valid identifiers\n",
    "my_var = 10\n",
    "MyVar = 20\n",
    "MYVAR = 30\n",
    "myVar2 = 40\n",
    "_this_is_valid = 50\n",
    "\n",
    "# Invalid identifiers\n",
    "2var = 5  # Cannot start with a digit\n",
    "my-var = 10  # Hyphens are not allowed\n",
    "my var = 20  # Spaces are not allowed\n",
    "class = 30  # Cannot be a keyword\n"
   ]
  },
  {
   "cell_type": "code",
   "execution_count": null,
   "id": "9603d30a-564e-4d62-ae5b-9f9182e0c59d",
   "metadata": {},
   "outputs": [],
   "source": [
    "#Q-What are comments in Python, and why are they usefull Provide an example\n",
    "#Ans-comments are annotations within the code that are ignored by the interpreter during execution.\n",
    "#Comments can clarify complex or non-intuitive sections of code, making it easier for others\n",
    "#example\n",
    "2var = 5  # Cannot start with a digit"
   ]
  },
  {
   "cell_type": "code",
   "execution_count": null,
   "id": "2a5fe60f-57f0-4534-8093-4ce6c86c8600",
   "metadata": {},
   "outputs": [],
   "source": [
    "#Q-Why is proper indentation important in Python\n",
    "#Ans-Proper indentation is crucial in Python because it is used to define the structure and hierarchy of code blocks. In Python, indentation is not just for readability; it is part of the syntax and affects how the code is interpreted by the Python interpreter. "
   ]
  },
  {
   "cell_type": "code",
   "execution_count": null,
   "id": "7c06ef77-c71c-4d7d-9997-c37377f8e464",
   "metadata": {},
   "outputs": [],
   "source": [
    "#Q-What happens if indentation is incorrect in Python\n",
    "#ans- if indentation is incorrect it will lead to the following:\n",
    "#1) Syntax Errors 2) Logical Errors 3) Readability Issues 4 ) Unintended Nesting"
   ]
  },
  {
   "cell_type": "code",
   "execution_count": null,
   "id": "94a5f12d-4fb3-4f0c-bc5b-7a2d765db46b",
   "metadata": {},
   "outputs": [],
   "source": [
    "#Q-Differentiate 0etween expression and statement in Python with examples\n",
    "#Ans-An expression is a combination of values, variables, operators, and function calls that evaluates to a single value.\n",
    "#A statement is a complete instruction that performs some action. It can be a single line or a block of code.\n",
    "# Expression\n",
    "result = 3 + 4 * 2  # This is an expression that evaluates to 11\n",
    "\n",
    "# Statement\n",
    "if result == 11:  # This is a statement that checks the value of 'result'\n",
    "    print(\"The result is 11\")"
   ]
  }
 ],
 "metadata": {
  "kernelspec": {
   "display_name": "Python 3 (ipykernel)",
   "language": "python",
   "name": "python3"
  },
  "language_info": {
   "codemirror_mode": {
    "name": "ipython",
    "version": 3
   },
   "file_extension": ".py",
   "mimetype": "text/x-python",
   "name": "python",
   "nbconvert_exporter": "python",
   "pygments_lexer": "ipython3",
   "version": "3.10.8"
  }
 },
 "nbformat": 4,
 "nbformat_minor": 5
}
